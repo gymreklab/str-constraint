{
 "cells": [
  {
   "cell_type": "code",
   "execution_count": 248,
   "metadata": {
    "collapsed": false
   },
   "outputs": [
    {
     "name": "stdout",
     "output_type": "stream",
     "text": [
      "Populating the interactive namespace from numpy and matplotlib\n"
     ]
    },
    {
     "name": "stderr",
     "output_type": "stream",
     "text": [
      "WARNING: pylab import has clobbered these variables: ['box', 'random']\n",
      "`%matplotlib` prevents importing * from pylab and numpy\n"
     ]
    }
   ],
   "source": [
    "%pylab inline\n",
    "\n",
    "import matplotlib.pyplot as plt\n",
    "import pandas as pd\n",
    "import random\n",
    "import os\n",
    "import matplotlib as mpl\n",
    "import numpy as np\n",
    "mpl.rcParams['pdf.fonttype'] = 42\n",
    "import scipy.stats\n",
    "import sklearn.linear_model\n",
    "import sklearn.ensemble\n",
    "\n",
    "DATAPATH = \"../data\"\n",
    "\n",
    "# Zscores file: chrom\tstart\tend\tml_mu\tml_mu_se\tpred_mu\tpredmu_se\tzscore\n",
    "zscores = pd.read_csv(os.path.join(DATAPATH, \"autosomal_perlocus_zscores.bed\"), sep=\"\\t\")\n",
    "zscores[\"diff\"] = zscores[\"ml_mu\"]-zscores[\"pred_mu\"]\n",
    "zscores[\"length\"] = zscores[\"end\"]-zscores[\"start\"]+1\n",
    "#zscores = zscores[zscores[\"ml_mu_se\"]!=0]"
   ]
  },
  {
   "cell_type": "code",
   "execution_count": 249,
   "metadata": {
    "collapsed": false
   },
   "outputs": [
    {
     "data": {
      "text/plain": [
       "'\\ndef GetZScore(x):\\n    num = x[\"ml_mu\"]-x[\"pred_mu\"]\\n    #denom = np.sqrt(x[\"ml_mu_se_recalc\"]**2/2 + x[\"predmu_se\"]**2/2)\\n    denom = x[\"predmu_se\"]*100\\n    return num/denom\\n\\nGAMMA = 1.2\\nzscores[\"ml_mu_se_recalc\"] = zscores.apply(lambda x: x[\"ml_mu_se\"]/GAMMA/abs(x[\"ml_mu\"]), 1)\\nzscores[\"zscore\"] = zscores.apply(GetZScore, 1)\\n'"
      ]
     },
     "execution_count": 249,
     "metadata": {},
     "output_type": "execute_result"
    }
   ],
   "source": [
    "# Unscale standard errors, recalc zscores\n",
    "\"\"\"\n",
    "def GetZScore(x):\n",
    "    num = x[\"ml_mu\"]-x[\"pred_mu\"]\n",
    "    #denom = np.sqrt(x[\"ml_mu_se_recalc\"]**2/2 + x[\"predmu_se\"]**2/2)\n",
    "    denom = x[\"predmu_se\"]*100\n",
    "    return num/denom\n",
    "\n",
    "GAMMA = 1.2\n",
    "zscores[\"ml_mu_se_recalc\"] = zscores.apply(lambda x: x[\"ml_mu_se\"]/GAMMA/abs(x[\"ml_mu\"]), 1)\n",
    "zscores[\"zscore\"] = zscores.apply(GetZScore, 1)\n",
    "\"\"\""
   ]
  },
  {
   "cell_type": "code",
   "execution_count": 258,
   "metadata": {
    "collapsed": false
   },
   "outputs": [
    {
     "name": "stdout",
     "output_type": "stream",
     "text": [
      "intergenic 129604 0.00390513678381 Ttest_relResult(statistic=1.3334419377835245, pvalue=0.18238916115670087)\n",
      "intron 102159 0.0134137514115 Ttest_relResult(statistic=4.163371175345965, pvalue=3.1383971131171065e-05)\n",
      "5utr 1230 -0.00443340231076 Ttest_relResult(statistic=-0.15411664692736282, pvalue=0.87754306561855144)\n",
      "3utr 2216 0.0458358288508 Ttest_relResult(statistic=2.1377861849048183, pvalue=0.032643273014902788)\n",
      "coding 699 -0.217571029194 Ttest_relResult(statistic=-5.5134525112824484, pvalue=4.9567847420199134e-08)\n",
      "missensecons 138 -0.298280011524 Ttest_relResult(statistic=-3.4368913725462855, pvalue=0.00077946584024718327)\n",
      "missensecons 9675 0.0178075287189 Ttest_relResult(statistic=1.7241249558524185, pvalue=0.084717234376601599)\n",
      "pLI 217 -0.258312802524 Ttest_relResult(statistic=-3.7168445436576865, pvalue=0.00025700429676940063)\n",
      "pLIintron 24551 0.01948896 Ttest_relResult(statistic=3.0393533752267237, pvalue=0.0023733603844099229)\n",
      "eSTRs 1540 0.707472760315 Ttest_relResult(statistic=27.734063543106735, pvalue=1.2321465160553666e-137)\n",
      "IDgenes 34 -0.354088926384 Ttest_relResult(statistic=-2.3870707255216237, pvalue=0.022869773097703341)\n"
     ]
    }
   ],
   "source": [
    "# Get zscores by STR set\n",
    "boxdata = []\n",
    "diffdata = []\n",
    "labels = []\n",
    "for strset in [\"lobSTR_ref_GRCh37_intergenic.bed\", \"lobSTR_ref_GRCh37_intron.bed\", \\\n",
    "              \"lobSTR_ref_GRCh37_5utr.bed\", \"lobSTR_ref_GRCh37_3utr.bed\", \\\n",
    "              \"lobSTR_ref_GRCh37_coding.bed\", \\\n",
    "               \"lobSTR_ref_GRCh37_missenseconstrained.bed\", \"lobSTR_ref_GRCh37_missenseconstrainedintron.bed\", \\\n",
    "              \"lobSTR_ref_GRCh37_pLI.bed\", \"lobSTR_ref_GRCh37_pLIintron.bed\", \"eSTRs.bed\",\n",
    "              \"lobSTR_ref_GRCh37_IDgenes.bed\"]:\n",
    "    label = strset.split(\".bed\")[0].split(\"_\")[-1]\n",
    "    if len(label)>12: label = label[0:12]\n",
    "    if label == \"IDgenes\":\n",
    "        names = [\"chrom\",\"start\",\"end\",\"gene\"]\n",
    "    else: names = [\"chrom\",\"start\",\"end\"]\n",
    "    setdata = pd.read_csv(os.path.join(DATAPATH, strset), sep=\"\\t\", names=names)\n",
    "    setdata = pd.merge(setdata, zscores, on=[\"chrom\",\"start\"]).drop_duplicates()\n",
    "    setdata = setdata[setdata[\"ml_mu_se\"]>0]\n",
    "    print label, setdata.shape[0], np.mean(setdata[\"diff\"]), scipy.stats.ttest_rel(setdata[\"ml_mu\"], setdata[\"pred_mu\"])\n",
    "    boxdata.append(list(setdata[\"zscore\"]))\n",
    "    diffdata.append(list(setdata[\"ml_mu\"]-setdata[\"pred_mu\"]))\n",
    "    labels.append(label)"
   ]
  },
  {
   "cell_type": "code",
   "execution_count": 260,
   "metadata": {
    "collapsed": false
   },
   "outputs": [
    {
     "data": {
      "image/png": "[encoded data removed]",
      "text/plain": [
       "<matplotlib.figure.Figure at 0x121b95dd0>"
      ]
     },
     "metadata": {},
     "output_type": "display_data"
    }
   ],
   "source": [
    "# Boxplot\n",
    "fig = plt.figure()\n",
    "ax = fig.add_subplot(111)\n",
    "box = ax.boxplot(boxdata, sym=\"\");\n",
    "plt.setp(box['boxes'], color='black', linewidth=2)\n",
    "plt.setp(box['whiskers'], color='black', linewidth=2)\n",
    "plt.setp(box['medians'], color='black', linewidth=2)\n",
    "plt.setp(box['caps'], color='black')\n",
    "ax.axhline(y=0, linestyle=\"dashed\", color=\"red\",linewidth=2)\n",
    "ax.set_ylabel(\"STR Constraint Z score\", size=15)\n",
    "ax.set_xticklabels(labels, size=12, rotation=45);\n",
    "ax.set_yticklabels(ax.get_yticks(), size=12)\n",
    "ax.spines[\"top\"].set_visible(False);\n",
    "ax.spines[\"right\"].set_visible(False);\n",
    "ax.get_xaxis().tick_bottom();\n",
    "ax.get_yaxis().tick_left();"
   ]
  },
  {
   "cell_type": "code",
   "execution_count": 252,
   "metadata": {
    "collapsed": false
   },
   "outputs": [
    {
     "data": {
      "image/png": "[encoded data removed]",
      "text/plain": [
       "<matplotlib.figure.Figure at 0x126bd8450>"
      ]
     },
     "metadata": {},
     "output_type": "display_data"
    }
   ],
   "source": [
    "# Boxplot\n",
    "fig = plt.figure()\n",
    "ax = fig.add_subplot(111)\n",
    "box = ax.boxplot(diffdata, sym=\"\");\n",
    "plt.setp(box['boxes'], color='black', linewidth=2)\n",
    "plt.setp(box['whiskers'], color='black', linewidth=2)\n",
    "plt.setp(box['medians'], color='black', linewidth=2)\n",
    "plt.setp(box['caps'], color='black')\n",
    "ax.axhline(y=0, linestyle=\"dashed\", color=\"red\",linewidth=2)\n",
    "ax.set_ylabel(\"STR Constraint Z score\", size=15)\n",
    "ax.set_xticklabels(labels, size=12, rotation=45);\n",
    "ax.set_yticklabels(ax.get_yticks(), size=12)\n",
    "ax.spines[\"top\"].set_visible(False);\n",
    "ax.spines[\"right\"].set_visible(False);\n",
    "ax.get_xaxis().tick_bottom();\n",
    "ax.get_yaxis().tick_left();"
   ]
  },
  {
   "cell_type": "code",
   "execution_count": 253,
   "metadata": {
    "collapsed": false
   },
   "outputs": [
    {
     "name": "stdout",
     "output_type": "stream",
     "text": [
      "(-inf, -2) 15\n",
      "(-2, 0) 375\n",
      "(0, 2) 218\n",
      "(2, inf) 12\n"
     ]
    },
    {
     "data": {
      "image/png": "[encoded data removed]",
      "text/plain": [
       "<matplotlib.figure.Figure at 0x12ab82250>"
      ]
     },
     "metadata": {},
     "output_type": "display_data"
    }
   ],
   "source": [
    "# Check out pLI scores\n",
    "pLI = pd.read_csv(os.path.join(DATAPATH, \"lobSTR_pLI_scores_coding.bed\"), sep=\"\\t\", names=[\"chrom\",\"start\",\"end\",\"pLI\"])\n",
    "pLI = pd.merge(pLI, zscores, on=[\"chrom\",\"start\",\"end\"]).drop_duplicates()\n",
    "scores = []\n",
    "bins = [(-1*np.inf, -2), (-2, 0), (0, 2), (2, np.inf)]\n",
    "for b in bins:\n",
    "    d = pLI[(pLI[\"diff\"]>=b[0]) & (pLI[\"diff\"]<b[1]) & (pLI[\"ml_mu_se\"]>0)]\n",
    "    print b, d.shape[0]\n",
    "    scores.append(list(d[\"pLI\"]))\n",
    "  \n",
    "fig = plt.figure()\n",
    "ax = fig.add_subplot(111)\n",
    "ax.boxplot(scores);\n",
    "ax.set_xticklabels(bins);"
   ]
  },
  {
   "cell_type": "code",
   "execution_count": 254,
   "metadata": {
    "collapsed": false
   },
   "outputs": [
    {
     "name": "stdout",
     "output_type": "stream",
     "text": [
      "(-inf, -2) 15\n",
      "(-2, 0) 375\n",
      "(0, 2) 218\n",
      "(2, inf) 12\n"
     ]
    },
    {
     "data": {
      "image/png": "[encoded data removed]",
      "text/plain": [
       "<matplotlib.figure.Figure at 0x129b7e850>"
      ]
     },
     "metadata": {},
     "output_type": "display_data"
    }
   ],
   "source": [
    "# Check out missense constraint scores\n",
    "ms = pd.read_csv(os.path.join(DATAPATH, \"lobSTR_missense_scores_coding.bed\"), sep=\"\\t\", names=[\"chrom\",\"start\",\"end\",\"ms\"])\n",
    "ms = pd.merge(ms, zscores, on=[\"chrom\",\"start\",\"end\"]).drop_duplicates()\n",
    "scores = []\n",
    "bins = [(-1*np.inf, -2), (-2, 0), (0, 2), (2, np.inf)]\n",
    "for b in bins:\n",
    "    d = ms[(ms[\"diff\"]>=b[0]) & (ms[\"diff\"]<b[1])& (ms[\"ml_mu_se\"]>0)]\n",
    "    print b, d.shape[0]\n",
    "    scores.append(list(d[\"ms\"]))\n",
    "  \n",
    "fig = plt.figure()\n",
    "ax = fig.add_subplot(111)\n",
    "ax.boxplot(scores);\n",
    "ax.set_xticklabels(bins);"
   ]
  },
  {
   "cell_type": "code",
   "execution_count": 255,
   "metadata": {
    "collapsed": false
   },
   "outputs": [
    {
     "data": {
      "text/plain": [
       "<matplotlib.lines.Line2D at 0x115225250>"
      ]
     },
     "execution_count": 255,
     "metadata": {},
     "output_type": "execute_result"
    },
    {
     "data": {
      "image/png": "[encoded data removed]",
      "text/plain": [
       "<matplotlib.figure.Figure at 0x1152a8950>"
      ]
     },
     "metadata": {},
     "output_type": "display_data"
    }
   ],
   "source": [
    "# Check out amino acids\n",
    "aas = pd.read_csv(os.path.join(DATAPATH, \"lobSTR_ref_GRCh37_coding_aas.bed\"), sep=\"\\t\", \\\n",
    "                  names=[\"chrom\",\"start\",\"end\",\"strand\",\"seq\",\"aas\"])\n",
    "aas = pd.merge(aas, zscores, on=[\"chrom\",\"start\",\"end\"])\n",
    "aas = aas[aas[\"ml_mu_se\"]>0]\n",
    "\n",
    "aadata = []\n",
    "labels = []\n",
    "allAAs = set([item for item in aas.aas if \",\" not in item])\n",
    "allAAs = list(aas[aas[\"aas\"].apply(lambda x: x in allAAs)].groupby(\"aas\", as_index=False).agg({\"diff\": np.median}).sort(\"diff\", ascending=False)[\"aas\"])\n",
    "allAAs.append(\"R,E\")\n",
    "#for aa in set(aas_pure.aas):\n",
    "for aa in allAAs:\n",
    "    x = aas[(aas[\"aas\"].apply(lambda x: aa == x))]\n",
    "    if x.shape[0] >= 10:\n",
    "        aadata.append(list(x[\"diff\"]))\n",
    "        labels.append(aa)\n",
    "    \n",
    "# Plot diff by AA\n",
    "fig = plt.figure()\n",
    "ax = fig.add_subplot(111)\n",
    "ax.boxplot(aadata)\n",
    "ax.set_xticklabels(labels);\n",
    "ax.axhline(y=0, linestyle=\"dashed\", color=\"gray\")"
   ]
  },
  {
   "cell_type": "code",
   "execution_count": 263,
   "metadata": {
    "collapsed": false
   },
   "outputs": [
    {
     "data": {
      "text/html": [
       "<div>\n",
       "<table border=\"1\" class=\"dataframe\">\n",
       "  <thead>\n",
       "    <tr style=\"text-align: right;\">\n",
       "      <th></th>\n",
       "      <th>chrom</th>\n",
       "      <th>start</th>\n",
       "      <th>end_x</th>\n",
       "      <th>gene</th>\n",
       "      <th>end_y</th>\n",
       "      <th>ml_mu</th>\n",
       "      <th>ml_mu_se</th>\n",
       "      <th>pred_mu</th>\n",
       "      <th>predmu_se</th>\n",
       "      <th>zscore</th>\n",
       "      <th>diff</th>\n",
       "      <th>length</th>\n",
       "    </tr>\n",
       "  </thead>\n",
       "  <tbody>\n",
       "    <tr>\n",
       "      <th>76</th>\n",
       "      <td>2</td>\n",
       "      <td>50574009</td>\n",
       "      <td>50574039</td>\n",
       "      <td>NRXN1</td>\n",
       "      <td>50574039</td>\n",
       "      <td>-5.950256</td>\n",
       "      <td>1.447669</td>\n",
       "      <td>-4.031460</td>\n",
       "      <td>0.049544</td>\n",
       "      <td>-1.873357</td>\n",
       "      <td>-1.918796</td>\n",
       "      <td>31</td>\n",
       "    </tr>\n",
       "    <tr>\n",
       "      <th>201</th>\n",
       "      <td>11</td>\n",
       "      <td>65838045</td>\n",
       "      <td>65838090</td>\n",
       "      <td>PACS1</td>\n",
       "      <td>65838090</td>\n",
       "      <td>-7.674292</td>\n",
       "      <td>75.923067</td>\n",
       "      <td>-5.850908</td>\n",
       "      <td>0.021108</td>\n",
       "      <td>-0.033964</td>\n",
       "      <td>-1.823384</td>\n",
       "      <td>46</td>\n",
       "    </tr>\n",
       "    <tr>\n",
       "      <th>136</th>\n",
       "      <td>5</td>\n",
       "      <td>92920821</td>\n",
       "      <td>92920844</td>\n",
       "      <td>NR2F1-AS1</td>\n",
       "      <td>92920844</td>\n",
       "      <td>-7.674279</td>\n",
       "      <td>11.337342</td>\n",
       "      <td>-6.015228</td>\n",
       "      <td>0.029502</td>\n",
       "      <td>-0.206948</td>\n",
       "      <td>-1.659052</td>\n",
       "      <td>24</td>\n",
       "    </tr>\n",
       "    <tr>\n",
       "      <th>137</th>\n",
       "      <td>5</td>\n",
       "      <td>92920821</td>\n",
       "      <td>92920844</td>\n",
       "      <td>NR2F1</td>\n",
       "      <td>92920844</td>\n",
       "      <td>-7.674279</td>\n",
       "      <td>11.337342</td>\n",
       "      <td>-6.015228</td>\n",
       "      <td>0.029502</td>\n",
       "      <td>-0.206948</td>\n",
       "      <td>-1.659052</td>\n",
       "      <td>24</td>\n",
       "    </tr>\n",
       "    <tr>\n",
       "      <th>285</th>\n",
       "      <td>19</td>\n",
       "      <td>13319694</td>\n",
       "      <td>13319722</td>\n",
       "      <td>CACNA1A</td>\n",
       "      <td>13319722</td>\n",
       "      <td>-6.052147</td>\n",
       "      <td>2.078686</td>\n",
       "      <td>-4.437791</td>\n",
       "      <td>0.038382</td>\n",
       "      <td>-1.098124</td>\n",
       "      <td>-1.614356</td>\n",
       "      <td>29</td>\n",
       "    </tr>\n",
       "  </tbody>\n",
       "</table>\n",
       "</div>"
      ],
      "text/plain": [
       "     chrom     start     end_x       gene     end_y     ml_mu   ml_mu_se  \\\n",
       "76       2  50574009  50574039      NRXN1  50574039 -5.950256   1.447669   \n",
       "201     11  65838045  65838090      PACS1  65838090 -7.674292  75.923067   \n",
       "136      5  92920821  92920844  NR2F1-AS1  92920844 -7.674279  11.337342   \n",
       "137      5  92920821  92920844      NR2F1  92920844 -7.674279  11.337342   \n",
       "285     19  13319694  13319722    CACNA1A  13319722 -6.052147   2.078686   \n",
       "\n",
       "      pred_mu  predmu_se    zscore      diff  length  \n",
       "76  -4.031460   0.049544 -1.873357 -1.918796      31  \n",
       "201 -5.850908   0.021108 -0.033964 -1.823384      46  \n",
       "136 -6.015228   0.029502 -0.206948 -1.659052      24  \n",
       "137 -6.015228   0.029502 -0.206948 -1.659052      24  \n",
       "285 -4.437791   0.038382 -1.098124 -1.614356      29  "
      ]
     },
     "execution_count": 263,
     "metadata": {},
     "output_type": "execute_result"
    }
   ],
   "source": [
    "# Check out ID/autism genes\n",
    "strset = \"lobSTR_ref_GRCh37_IDgenes.bed\"\n",
    "setdata = pd.read_csv(os.path.join(DATAPATH, strset), sep=\"\\t\", names=[\"chrom\",\"start\",\"end\",\"gene\"])\n",
    "setdata = pd.merge(setdata, zscores, on=[\"chrom\",\"start\"]).drop_duplicates()\n",
    "setdata = setdata[setdata[\"ml_mu_se\"]>0]\n",
    "setdata.sort(\"diff\").head()"
   ]
  },
  {
   "cell_type": "code",
   "execution_count": 256,
   "metadata": {
    "collapsed": false
   },
   "outputs": [
    {
     "data": {
      "text/html": [
       "<div>\n",
       "<table border=\"1\" class=\"dataframe\">\n",
       "  <thead>\n",
       "    <tr style=\"text-align: right;\">\n",
       "      <th></th>\n",
       "      <th>chrom</th>\n",
       "      <th>start</th>\n",
       "      <th>end</th>\n",
       "      <th>ms</th>\n",
       "      <th>ml_mu</th>\n",
       "      <th>ml_mu_se</th>\n",
       "      <th>pred_mu</th>\n",
       "      <th>predmu_se</th>\n",
       "      <th>zscore</th>\n",
       "      <th>diff</th>\n",
       "      <th>length</th>\n",
       "      <th>pLI</th>\n",
       "    </tr>\n",
       "  </thead>\n",
       "  <tbody>\n",
       "    <tr>\n",
       "      <th>2730</th>\n",
       "      <td>14</td>\n",
       "      <td>99641544</td>\n",
       "      <td>99641583</td>\n",
       "      <td>6.355727</td>\n",
       "      <td>-7.674310</td>\n",
       "      <td>53.416452</td>\n",
       "      <td>-4.680340</td>\n",
       "      <td>0.040291</td>\n",
       "      <td>-0.079266</td>\n",
       "      <td>-2.993970</td>\n",
       "      <td>40</td>\n",
       "      <td>0.904163</td>\n",
       "    </tr>\n",
       "    <tr>\n",
       "      <th>3423</th>\n",
       "      <td>8</td>\n",
       "      <td>28209226</td>\n",
       "      <td>28209250</td>\n",
       "      <td>0.860436</td>\n",
       "      <td>-7.674304</td>\n",
       "      <td>6.967117</td>\n",
       "      <td>-4.823331</td>\n",
       "      <td>0.046803</td>\n",
       "      <td>-0.578689</td>\n",
       "      <td>-2.850972</td>\n",
       "      <td>25</td>\n",
       "      <td>0.728989</td>\n",
       "    </tr>\n",
       "    <tr>\n",
       "      <th>2506</th>\n",
       "      <td>11</td>\n",
       "      <td>115080312</td>\n",
       "      <td>115080345</td>\n",
       "      <td>2.269928</td>\n",
       "      <td>-6.457136</td>\n",
       "      <td>4.454291</td>\n",
       "      <td>-3.745557</td>\n",
       "      <td>0.040043</td>\n",
       "      <td>-0.860877</td>\n",
       "      <td>-2.711579</td>\n",
       "      <td>34</td>\n",
       "      <td>0.991493</td>\n",
       "    </tr>\n",
       "    <tr>\n",
       "      <th>2704</th>\n",
       "      <td>14</td>\n",
       "      <td>73572607</td>\n",
       "      <td>73572668</td>\n",
       "      <td>4.464311</td>\n",
       "      <td>-7.674291</td>\n",
       "      <td>216.880942</td>\n",
       "      <td>-5.176177</td>\n",
       "      <td>0.016064</td>\n",
       "      <td>-0.016289</td>\n",
       "      <td>-2.498114</td>\n",
       "      <td>62</td>\n",
       "      <td>1.000000</td>\n",
       "    </tr>\n",
       "    <tr>\n",
       "      <th>144</th>\n",
       "      <td>1</td>\n",
       "      <td>53793512</td>\n",
       "      <td>53793546</td>\n",
       "      <td>3.051198</td>\n",
       "      <td>-6.124505</td>\n",
       "      <td>1.620393</td>\n",
       "      <td>-3.734183</td>\n",
       "      <td>0.030215</td>\n",
       "      <td>-2.085813</td>\n",
       "      <td>-2.390322</td>\n",
       "      <td>35</td>\n",
       "      <td>0.999965</td>\n",
       "    </tr>\n",
       "  </tbody>\n",
       "</table>\n",
       "</div>"
      ],
      "text/plain": [
       "      chrom      start        end        ms     ml_mu    ml_mu_se   pred_mu  \\\n",
       "2730     14   99641544   99641583  6.355727 -7.674310   53.416452 -4.680340   \n",
       "3423      8   28209226   28209250  0.860436 -7.674304    6.967117 -4.823331   \n",
       "2506     11  115080312  115080345  2.269928 -6.457136    4.454291 -3.745557   \n",
       "2704     14   73572607   73572668  4.464311 -7.674291  216.880942 -5.176177   \n",
       "144       1   53793512   53793546  3.051198 -6.124505    1.620393 -3.734183   \n",
       "\n",
       "      predmu_se    zscore      diff  length       pLI  \n",
       "2730   0.040291 -0.079266 -2.993970      40  0.904163  \n",
       "3423   0.046803 -0.578689 -2.850972      25  0.728989  \n",
       "2506   0.040043 -0.860877 -2.711579      34  0.991493  \n",
       "2704   0.016064 -0.016289 -2.498114      62  1.000000  \n",
       "144    0.030215 -2.085813 -2.390322      35  0.999965  "
      ]
     },
     "execution_count": 256,
     "metadata": {},
     "output_type": "execute_result"
    }
   ],
   "source": [
    "pLI = pd.read_csv(os.path.join(DATAPATH, \"lobSTR_pLI_scores_coding.bed\"), sep=\"\\t\", names=[\"chrom\",\"start\",\"end\",\"pLI\"])\n",
    "ms = pd.merge(ms, pLI, on=[\"chrom\",\"start\",\"end\"]).drop_duplicates()\n",
    "ms[ms[\"ml_mu_se\"]>0].sort(\"diff\").head()"
   ]
  }
 ],
 "metadata": {
  "kernelspec": {
   "display_name": "Python 2",
   "language": "python",
   "name": "python2"
  },
  "language_info": {
   "codemirror_mode": {
    "name": "ipython",
    "version": 2
   },
   "file_extension": ".py",
   "mimetype": "text/x-python",
   "name": "python",
   "nbconvert_exporter": "python",
   "pygments_lexer": "ipython2",
   "version": "2.7.10"
  }
 },
 "nbformat": 4,
 "nbformat_minor": 0
}
