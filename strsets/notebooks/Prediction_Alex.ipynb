{
 "cells": [
  {
   "cell_type": "code",
   "execution_count": 38,
   "metadata": {
    "collapsed": false
   },
   "outputs": [],
   "source": [
    "%matplotlib inline\n",
    "import forestci as fci\n",
    "from matplotlib import pyplot as plt\n",
    "import pandas as pd\n",
    "import os\n",
    "import numpy as np\n",
    "import sklearn.cross_validation as xval\n",
    "from scipy.stats import pearsonr\n",
    "from sklearn.ensemble import RandomForestRegressor, GradientBoostingRegressor\n",
    "from sklearn.linear_model import LinearRegression\n",
    "from statsmodels.formula.api import ols\n",
    "\n",
    "DATAPATH = '../data'\n",
    "dataset = pd.read_csv(os.path.join(DATAPATH, \"autosomal_perlocus_train_intergenic.bed.gz\"), sep=\"\\t\").drop_duplicates()\n",
    "dataset['period'] = dataset['motif'].str.len()\n",
    "features = ['uninterrupted_length', 'length','period','recomb','gc','entropy','reptiming','period2','period3']\n",
    "\n",
    "# Filter to things with length >=25, period is di, tri, or tetra\n",
    "dataset = dataset[(dataset[\"uninterrupted_length\"]>=20)&(dataset[\"period\"].apply(lambda x: x in [2,3,4]))]"
   ]
  },
  {
   "cell_type": "code",
   "execution_count": 39,
   "metadata": {
    "collapsed": false
   },
   "outputs": [
    {
     "data": {
      "text/html": [
       "<div>\n",
       "<table border=\"1\" class=\"dataframe\">\n",
       "  <thead>\n",
       "    <tr style=\"text-align: right;\">\n",
       "      <th></th>\n",
       "      <th>chrom</th>\n",
       "      <th>start</th>\n",
       "      <th>end</th>\n",
       "      <th>ml_mu</th>\n",
       "      <th>ml_beta</th>\n",
       "      <th>ml_p</th>\n",
       "      <th>ml_mu_stderr</th>\n",
       "      <th>numsamples</th>\n",
       "      <th>strfilter</th>\n",
       "      <th>motif</th>\n",
       "      <th>length</th>\n",
       "      <th>uninterrupted_length</th>\n",
       "      <th>recomb</th>\n",
       "      <th>gc</th>\n",
       "      <th>entropy</th>\n",
       "      <th>reptiming</th>\n",
       "      <th>featurefilter</th>\n",
       "      <th>period</th>\n",
       "    </tr>\n",
       "  </thead>\n",
       "  <tbody>\n",
       "    <tr>\n",
       "      <th>40</th>\n",
       "      <td>1</td>\n",
       "      <td>6464771</td>\n",
       "      <td>6464818</td>\n",
       "      <td>-3.008689</td>\n",
       "      <td>2.006161e-07</td>\n",
       "      <td>0.999902</td>\n",
       "      <td>0.166666</td>\n",
       "      <td>298</td>\n",
       "      <td>PASS</td>\n",
       "      <td>AAAT</td>\n",
       "      <td>48</td>\n",
       "      <td>48</td>\n",
       "      <td>0.001615</td>\n",
       "      <td>0.59</td>\n",
       "      <td>1.968911</td>\n",
       "      <td>1.578923</td>\n",
       "      <td>False</td>\n",
       "      <td>4</td>\n",
       "    </tr>\n",
       "    <tr>\n",
       "      <th>76</th>\n",
       "      <td>1</td>\n",
       "      <td>6830345</td>\n",
       "      <td>6830364</td>\n",
       "      <td>-7.674326</td>\n",
       "      <td>2.505950e-01</td>\n",
       "      <td>0.999709</td>\n",
       "      <td>0.000000</td>\n",
       "      <td>211</td>\n",
       "      <td>PASS</td>\n",
       "      <td>AAT</td>\n",
       "      <td>20</td>\n",
       "      <td>20</td>\n",
       "      <td>0.030975</td>\n",
       "      <td>0.56</td>\n",
       "      <td>1.982315</td>\n",
       "      <td>0.960401</td>\n",
       "      <td>False</td>\n",
       "      <td>3</td>\n",
       "    </tr>\n",
       "    <tr>\n",
       "      <th>102</th>\n",
       "      <td>1</td>\n",
       "      <td>8055676</td>\n",
       "      <td>8055714</td>\n",
       "      <td>-3.701994</td>\n",
       "      <td>2.066699e-06</td>\n",
       "      <td>0.919629</td>\n",
       "      <td>0.204250</td>\n",
       "      <td>293</td>\n",
       "      <td>PASS</td>\n",
       "      <td>AAAT</td>\n",
       "      <td>39</td>\n",
       "      <td>34</td>\n",
       "      <td>1.300130</td>\n",
       "      <td>0.41</td>\n",
       "      <td>1.964974</td>\n",
       "      <td>0.757793</td>\n",
       "      <td>False</td>\n",
       "      <td>4</td>\n",
       "    </tr>\n",
       "    <tr>\n",
       "      <th>124</th>\n",
       "      <td>1</td>\n",
       "      <td>8065674</td>\n",
       "      <td>8065709</td>\n",
       "      <td>-7.674331</td>\n",
       "      <td>1.155046e-01</td>\n",
       "      <td>0.954582</td>\n",
       "      <td>0.000000</td>\n",
       "      <td>86</td>\n",
       "      <td>PASS</td>\n",
       "      <td>AAGG</td>\n",
       "      <td>36</td>\n",
       "      <td>23</td>\n",
       "      <td>0.787018</td>\n",
       "      <td>0.47</td>\n",
       "      <td>1.967579</td>\n",
       "      <td>0.756587</td>\n",
       "      <td>False</td>\n",
       "      <td>4</td>\n",
       "    </tr>\n",
       "    <tr>\n",
       "      <th>134</th>\n",
       "      <td>1</td>\n",
       "      <td>8089800</td>\n",
       "      <td>8089825</td>\n",
       "      <td>-4.164805</td>\n",
       "      <td>6.553952e-05</td>\n",
       "      <td>0.843995</td>\n",
       "      <td>0.259567</td>\n",
       "      <td>301</td>\n",
       "      <td>PASS</td>\n",
       "      <td>AC</td>\n",
       "      <td>26</td>\n",
       "      <td>26</td>\n",
       "      <td>0.000000</td>\n",
       "      <td>0.33</td>\n",
       "      <td>1.909423</td>\n",
       "      <td>0.760734</td>\n",
       "      <td>False</td>\n",
       "      <td>2</td>\n",
       "    </tr>\n",
       "  </tbody>\n",
       "</table>\n",
       "</div>"
      ],
      "text/plain": [
       "     chrom    start      end     ml_mu       ml_beta      ml_p  ml_mu_stderr  \\\n",
       "40       1  6464771  6464818 -3.008689  2.006161e-07  0.999902      0.166666   \n",
       "76       1  6830345  6830364 -7.674326  2.505950e-01  0.999709      0.000000   \n",
       "102      1  8055676  8055714 -3.701994  2.066699e-06  0.919629      0.204250   \n",
       "124      1  8065674  8065709 -7.674331  1.155046e-01  0.954582      0.000000   \n",
       "134      1  8089800  8089825 -4.164805  6.553952e-05  0.843995      0.259567   \n",
       "\n",
       "     numsamples strfilter motif  length  uninterrupted_length    recomb    gc  \\\n",
       "40          298      PASS  AAAT      48                    48  0.001615  0.59   \n",
       "76          211      PASS   AAT      20                    20  0.030975  0.56   \n",
       "102         293      PASS  AAAT      39                    34  1.300130  0.41   \n",
       "124          86      PASS  AAGG      36                    23  0.787018  0.47   \n",
       "134         301      PASS    AC      26                    26  0.000000  0.33   \n",
       "\n",
       "      entropy  reptiming featurefilter  period  \n",
       "40   1.968911   1.578923         False       4  \n",
       "76   1.982315   0.960401         False       3  \n",
       "102  1.964974   0.757793         False       4  \n",
       "124  1.967579   0.756587         False       4  \n",
       "134  1.909423   0.760734         False       2  "
      ]
     },
     "execution_count": 39,
     "metadata": {},
     "output_type": "execute_result"
    }
   ],
   "source": [
    "dataset.head()"
   ]
  },
  {
   "cell_type": "code",
   "execution_count": 40,
   "metadata": {
    "collapsed": false
   },
   "outputs": [
    {
     "data": {
      "image/png": "[encoded data removed]",
      "text/plain": [
       "<matplotlib.figure.Figure at 0x114813f10>"
      ]
     },
     "metadata": {},
     "output_type": "display_data"
    }
   ],
   "source": [
    "fig, ((axis1, axis2), (axis3, axis4), (axis5, axis6)) = plt.subplots(3,2, figsize=(8, 8))\n",
    "for i in range(1, 7):\n",
    "    axes = [axis1, axis2, axis3, axis4, axis5, axis6]\n",
    "    dataset[dataset['period']==i]['ml_mu'].hist(ax=axes[i-1])"
   ]
  },
  {
   "cell_type": "markdown",
   "metadata": {},
   "source": [
    "The above figure indicates that the data is unbalanced, especially for those data whose motif length is greater than 1, the amount of data with **ml_mu < -7** is too large. And since **ml_mu < -7** usually indicates the estimation is not accurate, so those data will greatly affect our prediction, thus should be dropped or resampled.\n",
    "\n",
    "**edit from MGymrek**\n",
    "Restricting to things with length >=25 gives a much nicer distribution. This is not ideal but perhaps models on those can extend to the shorter, less mutable loci if the trends are all  linear."
   ]
  },
  {
   "cell_type": "markdown",
   "metadata": {},
   "source": [
    "Try drop firtst, then try resample."
   ]
  },
  {
   "cell_type": "code",
   "execution_count": 41,
   "metadata": {
    "collapsed": false
   },
   "outputs": [],
   "source": [
    "dataset = dataset[dataset['ml_mu'] > -7.5][dataset['ml_mu'] < -1] # Remove things at the optimization boundaries for mu\n",
    "dataset = dataset[dataset['ml_beta'] < 0.899][dataset[\"ml_beta\"] > 0.001] # Remove things at the optimization boundaries for beta"
   ]
  },
  {
   "cell_type": "code",
   "execution_count": 42,
   "metadata": {
    "collapsed": false
   },
   "outputs": [
    {
     "data": {
      "image/png": "[encoded data removed]",
      "text/plain": [
       "<matplotlib.figure.Figure at 0x115c71e90>"
      ]
     },
     "metadata": {},
     "output_type": "display_data"
    }
   ],
   "source": [
    "fig2, ((axis1, axis2), (axis3, axis4), (axis5, axis6)) = plt.subplots(3,2, figsize=(8, 8))\n",
    "for i in range(1, 7):\n",
    "    axes = [axis1, axis2, axis3, axis4, axis5, axis6]\n",
    "    dataset[dataset['period']==i]['ml_mu'].hist(ax=axes[i-1])"
   ]
  },
  {
   "cell_type": "code",
   "execution_count": 43,
   "metadata": {
    "collapsed": false
   },
   "outputs": [
    {
     "ename": "KeyError",
     "evalue": "\"['period2' 'period3'] not in index\"",
     "output_type": "error",
     "traceback": [
      "\u001b[0;31m---------------------------------------------------------------------------\u001b[0m",
      "\u001b[0;31mKeyError\u001b[0m                                  Traceback (most recent call last)",
      "\u001b[0;32m<ipython-input-43-3c40caa3e035>\u001b[0m in \u001b[0;36m<module>\u001b[0;34m()\u001b[0m\n\u001b[1;32m      1\u001b[0m \u001b[0mtraintest_num\u001b[0m \u001b[0;34m=\u001b[0m \u001b[0;36m15000\u001b[0m\u001b[0;34m\u001b[0m\u001b[0m\n\u001b[0;32m----> 2\u001b[0;31m \u001b[0mbasic_X\u001b[0m \u001b[0;34m=\u001b[0m \u001b[0mdataset\u001b[0m\u001b[0;34m[\u001b[0m\u001b[0mfeatures\u001b[0m\u001b[0;34m]\u001b[0m\u001b[0;34m[\u001b[0m\u001b[0;34m:\u001b[0m\u001b[0mtraintest_num\u001b[0m\u001b[0;34m]\u001b[0m\u001b[0;34m\u001b[0m\u001b[0m\n\u001b[0m\u001b[1;32m      3\u001b[0m \u001b[0mbasic_y\u001b[0m \u001b[0;34m=\u001b[0m \u001b[0mdataset\u001b[0m\u001b[0;34m[\u001b[0m\u001b[0;34m'ml_mu'\u001b[0m\u001b[0;34m]\u001b[0m\u001b[0;34m[\u001b[0m\u001b[0;34m:\u001b[0m\u001b[0mtraintest_num\u001b[0m\u001b[0;34m]\u001b[0m\u001b[0;34m\u001b[0m\u001b[0m\n\u001b[1;32m      4\u001b[0m \u001b[0mtrain_X\u001b[0m\u001b[0;34m,\u001b[0m \u001b[0mtest_X\u001b[0m\u001b[0;34m,\u001b[0m \u001b[0mtrain_y\u001b[0m\u001b[0;34m,\u001b[0m \u001b[0mtest_y\u001b[0m \u001b[0;34m=\u001b[0m \u001b[0mxval\u001b[0m\u001b[0;34m.\u001b[0m\u001b[0mtrain_test_split\u001b[0m\u001b[0;34m(\u001b[0m\u001b[0mbasic_X\u001b[0m\u001b[0;34m,\u001b[0m \u001b[0mbasic_y\u001b[0m\u001b[0;34m,\u001b[0m \u001b[0mtest_size\u001b[0m\u001b[0;34m=\u001b[0m\u001b[0;36m0.25\u001b[0m\u001b[0;34m)\u001b[0m\u001b[0;34m\u001b[0m\u001b[0m\n",
      "\u001b[0;32m/Library/Python/2.7/site-packages/pandas/core/frame.pyc\u001b[0m in \u001b[0;36m__getitem__\u001b[0;34m(self, key)\u001b[0m\n\u001b[1;32m   1789\u001b[0m         \u001b[0;32mif\u001b[0m \u001b[0misinstance\u001b[0m\u001b[0;34m(\u001b[0m\u001b[0mkey\u001b[0m\u001b[0;34m,\u001b[0m \u001b[0;34m(\u001b[0m\u001b[0mSeries\u001b[0m\u001b[0;34m,\u001b[0m \u001b[0mnp\u001b[0m\u001b[0;34m.\u001b[0m\u001b[0mndarray\u001b[0m\u001b[0;34m,\u001b[0m \u001b[0mIndex\u001b[0m\u001b[0;34m,\u001b[0m \u001b[0mlist\u001b[0m\u001b[0;34m)\u001b[0m\u001b[0;34m)\u001b[0m\u001b[0;34m:\u001b[0m\u001b[0;34m\u001b[0m\u001b[0m\n\u001b[1;32m   1790\u001b[0m             \u001b[0;31m# either boolean or fancy integer index\u001b[0m\u001b[0;34m\u001b[0m\u001b[0;34m\u001b[0m\u001b[0m\n\u001b[0;32m-> 1791\u001b[0;31m             \u001b[0;32mreturn\u001b[0m \u001b[0mself\u001b[0m\u001b[0;34m.\u001b[0m\u001b[0m_getitem_array\u001b[0m\u001b[0;34m(\u001b[0m\u001b[0mkey\u001b[0m\u001b[0;34m)\u001b[0m\u001b[0;34m\u001b[0m\u001b[0m\n\u001b[0m\u001b[1;32m   1792\u001b[0m         \u001b[0;32melif\u001b[0m \u001b[0misinstance\u001b[0m\u001b[0;34m(\u001b[0m\u001b[0mkey\u001b[0m\u001b[0;34m,\u001b[0m \u001b[0mDataFrame\u001b[0m\u001b[0;34m)\u001b[0m\u001b[0;34m:\u001b[0m\u001b[0;34m\u001b[0m\u001b[0m\n\u001b[1;32m   1793\u001b[0m             \u001b[0;32mreturn\u001b[0m \u001b[0mself\u001b[0m\u001b[0;34m.\u001b[0m\u001b[0m_getitem_frame\u001b[0m\u001b[0;34m(\u001b[0m\u001b[0mkey\u001b[0m\u001b[0;34m)\u001b[0m\u001b[0;34m\u001b[0m\u001b[0m\n",
      "\u001b[0;32m/Library/Python/2.7/site-packages/pandas/core/frame.pyc\u001b[0m in \u001b[0;36m_getitem_array\u001b[0;34m(self, key)\u001b[0m\n\u001b[1;32m   1833\u001b[0m             \u001b[0;32mreturn\u001b[0m \u001b[0mself\u001b[0m\u001b[0;34m.\u001b[0m\u001b[0mtake\u001b[0m\u001b[0;34m(\u001b[0m\u001b[0mindexer\u001b[0m\u001b[0;34m,\u001b[0m \u001b[0maxis\u001b[0m\u001b[0;34m=\u001b[0m\u001b[0;36m0\u001b[0m\u001b[0;34m,\u001b[0m \u001b[0mconvert\u001b[0m\u001b[0;34m=\u001b[0m\u001b[0mFalse\u001b[0m\u001b[0;34m)\u001b[0m\u001b[0;34m\u001b[0m\u001b[0m\n\u001b[1;32m   1834\u001b[0m         \u001b[0;32melse\u001b[0m\u001b[0;34m:\u001b[0m\u001b[0;34m\u001b[0m\u001b[0m\n\u001b[0;32m-> 1835\u001b[0;31m             \u001b[0mindexer\u001b[0m \u001b[0;34m=\u001b[0m \u001b[0mself\u001b[0m\u001b[0;34m.\u001b[0m\u001b[0mix\u001b[0m\u001b[0;34m.\u001b[0m\u001b[0m_convert_to_indexer\u001b[0m\u001b[0;34m(\u001b[0m\u001b[0mkey\u001b[0m\u001b[0;34m,\u001b[0m \u001b[0maxis\u001b[0m\u001b[0;34m=\u001b[0m\u001b[0;36m1\u001b[0m\u001b[0;34m)\u001b[0m\u001b[0;34m\u001b[0m\u001b[0m\n\u001b[0m\u001b[1;32m   1836\u001b[0m             \u001b[0;32mreturn\u001b[0m \u001b[0mself\u001b[0m\u001b[0;34m.\u001b[0m\u001b[0mtake\u001b[0m\u001b[0;34m(\u001b[0m\u001b[0mindexer\u001b[0m\u001b[0;34m,\u001b[0m \u001b[0maxis\u001b[0m\u001b[0;34m=\u001b[0m\u001b[0;36m1\u001b[0m\u001b[0;34m,\u001b[0m \u001b[0mconvert\u001b[0m\u001b[0;34m=\u001b[0m\u001b[0mTrue\u001b[0m\u001b[0;34m)\u001b[0m\u001b[0;34m\u001b[0m\u001b[0m\n\u001b[1;32m   1837\u001b[0m \u001b[0;34m\u001b[0m\u001b[0m\n",
      "\u001b[0;32m/Library/Python/2.7/site-packages/pandas/core/indexing.pyc\u001b[0m in \u001b[0;36m_convert_to_indexer\u001b[0;34m(self, obj, axis, is_setter)\u001b[0m\n\u001b[1;32m   1110\u001b[0m                 \u001b[0mmask\u001b[0m \u001b[0;34m=\u001b[0m \u001b[0mcheck\u001b[0m \u001b[0;34m==\u001b[0m \u001b[0;34m-\u001b[0m\u001b[0;36m1\u001b[0m\u001b[0;34m\u001b[0m\u001b[0m\n\u001b[1;32m   1111\u001b[0m                 \u001b[0;32mif\u001b[0m \u001b[0mmask\u001b[0m\u001b[0;34m.\u001b[0m\u001b[0many\u001b[0m\u001b[0;34m(\u001b[0m\u001b[0;34m)\u001b[0m\u001b[0;34m:\u001b[0m\u001b[0;34m\u001b[0m\u001b[0m\n\u001b[0;32m-> 1112\u001b[0;31m                     \u001b[0;32mraise\u001b[0m \u001b[0mKeyError\u001b[0m\u001b[0;34m(\u001b[0m\u001b[0;34m'%s not in index'\u001b[0m \u001b[0;34m%\u001b[0m \u001b[0mobjarr\u001b[0m\u001b[0;34m[\u001b[0m\u001b[0mmask\u001b[0m\u001b[0;34m]\u001b[0m\u001b[0;34m)\u001b[0m\u001b[0;34m\u001b[0m\u001b[0m\n\u001b[0m\u001b[1;32m   1113\u001b[0m \u001b[0;34m\u001b[0m\u001b[0m\n\u001b[1;32m   1114\u001b[0m                 \u001b[0;32mreturn\u001b[0m \u001b[0m_values_from_object\u001b[0m\u001b[0;34m(\u001b[0m\u001b[0mindexer\u001b[0m\u001b[0;34m)\u001b[0m\u001b[0;34m\u001b[0m\u001b[0m\n",
      "\u001b[0;31mKeyError\u001b[0m: \"['period2' 'period3'] not in index\""
     ]
    }
   ],
   "source": [
    "traintest_num = 15000\n",
    "basic_X = dataset[features][:traintest_num]\n",
    "basic_y = dataset['ml_mu'][:traintest_num]\n",
    "train_X, test_X, train_y, test_y = xval.train_test_split(basic_X, basic_y, test_size=0.25)"
   ]
  },
  {
   "cell_type": "markdown",
   "metadata": {},
   "source": [
    "# Linear Regression"
   ]
  },
  {
   "cell_type": "code",
   "execution_count": null,
   "metadata": {
    "collapsed": false
   },
   "outputs": [],
   "source": [
    "lr = LinearRegression()\n",
    "lr.fit(train_X, train_y)\n",
    "print lr.score(test_X, test_y)\n",
    "plt.scatter(lr.predict(test_X), test_y, alpha=0.1)\n",
    "plt.plot([-7, -2],[-7,-2])\n",
    "plt.xlim(left=-7, right=-2)\n",
    "plt.xlabel(\"Predicted mu\", size=15)\n",
    "plt.ylabel(\"Estimated mu\", size=15)\n",
    "print pearsonr(test_y, lr.predict(test_X))"
   ]
  },
  {
   "cell_type": "markdown",
   "metadata": {},
   "source": [
    "# Random Forest"
   ]
  },
  {
   "cell_type": "code",
   "execution_count": null,
   "metadata": {
    "collapsed": false
   },
   "outputs": [],
   "source": [
    "rf = RandomForestRegressor(max_depth=50, min_samples_leaf=10, n_estimators=10)\n",
    "# weights = np.array([0.1 if mu < -5 else 1 for mu in train_X['period']])\n",
    "rf.fit(train_X, train_y)\n",
    "pred_y = rf.predict(test_X)\n",
    "plt.scatter(pred_y, test_y, alpha=0.1)\n",
    "plt.plot([-7, -2],[-7,-2])\n",
    "plt.xlim(left=-7, right=-2)\n",
    "plt.xlabel(\"Predicted mu\", size=15)\n",
    "plt.ylabel(\"Estimated mu\", size=15)\n",
    "plt.show()\n",
    "print rf.score(test_X, test_y)\n",
    "print pearsonr(test_y, pred_y)"
   ]
  },
  {
   "cell_type": "code",
   "execution_count": null,
   "metadata": {
    "collapsed": false
   },
   "outputs": [],
   "source": [
    "inbag = fci.calc_inbag(train_X[:20000].shape[0], rf)\n",
    "unbiased = fci.random_forest_error(rf, inbag, train_X[:20000], test_X[:20000])"
   ]
  },
  {
   "cell_type": "code",
   "execution_count": null,
   "metadata": {
    "collapsed": false
   },
   "outputs": [],
   "source": [
    "plot_size = 50\n",
    "\n",
    "plt.errorbar(test_y[:plot_size], pred_y[:plot_size], yerr=np.sqrt(unbiased[:plot_size]), fmt='o', alpha=0.5)\n",
    "plt.plot([-8, 0], [-8, 0], '--')\n",
    "plt.xlabel('mu')\n",
    "plt.ylabel('pred_mu')\n",
    "plt.show()"
   ]
  },
  {
   "cell_type": "code",
   "execution_count": null,
   "metadata": {
    "collapsed": false
   },
   "outputs": [],
   "source": [
    "rf.feature_importances_"
   ]
  },
  {
   "cell_type": "markdown",
   "metadata": {},
   "source": [
    "# Compare models"
   ]
  },
  {
   "cell_type": "code",
   "execution_count": null,
   "metadata": {
    "collapsed": false
   },
   "outputs": [],
   "source": [
    "plt.scatter(lr.predict(test_X), rf.predict(test_X), alpha=0.1)\n",
    "plt.xlabel(\"Linear regression prediction\", size=15)\n",
    "plt.ylabel(\"Random forest prediction\", size=15)\n",
    "plt.plot([-5.5, -2],[-5.5,-2])\n",
    "plt.xlim(left=-5.5, right=-2)\n",
    "plt.plot()"
   ]
  },
  {
   "cell_type": "markdown",
   "metadata": {},
   "source": [
    "# Make predictions"
   ]
  },
  {
   "cell_type": "code",
   "execution_count": null,
   "metadata": {
    "collapsed": false
   },
   "outputs": [],
   "source": [
    "dataset = pd.read_csv(os.path.join(DATAPATH, \"autosomal_perlocus_observed.bed.gz\"), sep=\"\\t\").drop_duplicates()\n",
    "dataset['period'] = dataset['motif'].str.len()\n",
    "dataset['pred_mu'] = rf.predict(dataset[features])\n",
    "header = ['chrom','start','end','ml_mu','ml_beta','ml_p','ml_mu_stderr','numsamples','strfilter','motif',\n",
    "          'length','uninterrupted_length','recomb','gc,entropy','reptiming','featurefilter','period','pred_mu','pred_mu_se']"
   ]
  },
  {
   "cell_type": "code",
   "execution_count": null,
   "metadata": {
    "collapsed": true
   },
   "outputs": [],
   "source": [
    "# calculate inbag and unbiased variance\n",
    "#all_X = dataset[features]\n",
    "#inbag = fci.calc_inbag(train_X.shape[0], rf)\n",
    "#unbiased = fci.random_forest_error(rf, inbag, train_X, all_X)\n",
    "#dataset['pred_mu_se'] = np.sqrt(unbiased)"
   ]
  },
  {
   "cell_type": "code",
   "execution_count": null,
   "metadata": {
    "collapsed": false
   },
   "outputs": [],
   "source": [
    "dataset.to_csv(os.path.join(DATAPATH, 'alex_rough_mu_prediction.csv'), columns=header, index=False)\n",
    "dataset.head()"
   ]
  }
 ],
 "metadata": {
  "kernelspec": {
   "display_name": "Python 2",
   "language": "python",
   "name": "python2"
  },
  "language_info": {
   "codemirror_mode": {
    "name": "ipython",
    "version": 2
   },
   "file_extension": ".py",
   "mimetype": "text/x-python",
   "name": "python",
   "nbconvert_exporter": "python",
   "pygments_lexer": "ipython2",
   "version": "2.7.10"
  }
 },
 "nbformat": 4,
 "nbformat_minor": 0
}
