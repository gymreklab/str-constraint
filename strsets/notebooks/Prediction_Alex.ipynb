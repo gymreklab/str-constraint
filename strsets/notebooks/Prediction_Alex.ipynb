{
 "cells": [
  {
   "cell_type": "code",
   "execution_count": 77,
   "metadata": {
    "collapsed": false
   },
   "outputs": [],
   "source": [
    "%matplotlib inline\n",
    "import forestci as fci\n",
    "from matplotlib import pyplot as plt\n",
    "import pandas as pd\n",
    "import os\n",
    "import numpy as np\n",
    "import sklearn.cross_validation as xval\n",
    "from scipy.stats import pearsonr\n",
    "from sklearn.ensemble import RandomForestRegressor, GradientBoostingRegressor\n",
    "from sklearn.linear_model import LinearRegression\n",
    "from statsmodels.formula.api import ols\n",
    "\n",
    "DATAPATH = '../data'\n",
    "dataset = pd.read_csv(os.path.join(DATAPATH, \"autosomal_perlocus_train_intergenic.bed.gz\"), sep=\"\\t\").drop_duplicates()\n",
    "dataset['period'] = dataset['motif'].str.len()\n",
    "features = ['uninterrupted_length', 'length','period','recomb','gc','entropy','reptiming']\n",
    "\n",
    "# Filter to things with length >=25, period is di, tri, or tetra\n",
    "dataset = dataset[(dataset[\"uninterrupted_length\"]>=20)&(dataset[\"period\"].apply(lambda x: x in [2,3,4]))]\n",
    "dataset = dataset[~dataset[\"featurefilter\"]]"
   ]
  },
  {
   "cell_type": "code",
   "execution_count": 78,
   "metadata": {
    "collapsed": false
   },
   "outputs": [
    {
     "data": {
      "text/html": [
       "<div>\n",
       "<table border=\"1\" class=\"dataframe\">\n",
       "  <thead>\n",
       "    <tr style=\"text-align: right;\">\n",
       "      <th></th>\n",
       "      <th>chrom</th>\n",
       "      <th>start</th>\n",
       "      <th>end</th>\n",
       "      <th>ml_mu</th>\n",
       "      <th>ml_beta</th>\n",
       "      <th>ml_p</th>\n",
       "      <th>ml_mu_stderr</th>\n",
       "      <th>numsamples</th>\n",
       "      <th>strfilter</th>\n",
       "      <th>motif</th>\n",
       "      <th>length</th>\n",
       "      <th>uninterrupted_length</th>\n",
       "      <th>recomb</th>\n",
       "      <th>gc</th>\n",
       "      <th>entropy</th>\n",
       "      <th>reptiming</th>\n",
       "      <th>featurefilter</th>\n",
       "      <th>period</th>\n",
       "    </tr>\n",
       "  </thead>\n",
       "  <tbody>\n",
       "    <tr>\n",
       "      <th>14472</th>\n",
       "      <td>1</td>\n",
       "      <td>160698651</td>\n",
       "      <td>160698730</td>\n",
       "      <td>-3.062742</td>\n",
       "      <td>0.900000</td>\n",
       "      <td>0.918971</td>\n",
       "      <td>0.620357</td>\n",
       "      <td>297</td>\n",
       "      <td>PASS</td>\n",
       "      <td>AGAT</td>\n",
       "      <td>80</td>\n",
       "      <td>52</td>\n",
       "      <td>1.458050</td>\n",
       "      <td>0.44</td>\n",
       "      <td>1.856804</td>\n",
       "      <td>1.402919</td>\n",
       "      <td>True</td>\n",
       "      <td>4</td>\n",
       "    </tr>\n",
       "    <tr>\n",
       "      <th>17426</th>\n",
       "      <td>1</td>\n",
       "      <td>200609460</td>\n",
       "      <td>200609482</td>\n",
       "      <td>-5.421445</td>\n",
       "      <td>0.185305</td>\n",
       "      <td>0.700002</td>\n",
       "      <td>0.910597</td>\n",
       "      <td>300</td>\n",
       "      <td>PASS</td>\n",
       "      <td>AGCT</td>\n",
       "      <td>23</td>\n",
       "      <td>23</td>\n",
       "      <td>0.253637</td>\n",
       "      <td>0.37</td>\n",
       "      <td>1.866146</td>\n",
       "      <td>1.419828</td>\n",
       "      <td>True</td>\n",
       "      <td>4</td>\n",
       "    </tr>\n",
       "    <tr>\n",
       "      <th>24022</th>\n",
       "      <td>10</td>\n",
       "      <td>64522111</td>\n",
       "      <td>64522131</td>\n",
       "      <td>-7.674317</td>\n",
       "      <td>0.621984</td>\n",
       "      <td>0.816259</td>\n",
       "      <td>0.000000</td>\n",
       "      <td>300</td>\n",
       "      <td>PASS</td>\n",
       "      <td>ACTG</td>\n",
       "      <td>21</td>\n",
       "      <td>21</td>\n",
       "      <td>0.000115</td>\n",
       "      <td>0.45</td>\n",
       "      <td>1.969897</td>\n",
       "      <td>1.219447</td>\n",
       "      <td>True</td>\n",
       "      <td>4</td>\n",
       "    </tr>\n",
       "    <tr>\n",
       "      <th>24894</th>\n",
       "      <td>10</td>\n",
       "      <td>80574572</td>\n",
       "      <td>80574600</td>\n",
       "      <td>-6.262810</td>\n",
       "      <td>0.708997</td>\n",
       "      <td>0.999984</td>\n",
       "      <td>1.669060</td>\n",
       "      <td>300</td>\n",
       "      <td>PASS</td>\n",
       "      <td>ACTG</td>\n",
       "      <td>29</td>\n",
       "      <td>29</td>\n",
       "      <td>0.000000</td>\n",
       "      <td>0.39</td>\n",
       "      <td>1.941300</td>\n",
       "      <td>0.499526</td>\n",
       "      <td>True</td>\n",
       "      <td>4</td>\n",
       "    </tr>\n",
       "    <tr>\n",
       "      <th>28768</th>\n",
       "      <td>11</td>\n",
       "      <td>59388074</td>\n",
       "      <td>59388153</td>\n",
       "      <td>-7.674254</td>\n",
       "      <td>0.182240</td>\n",
       "      <td>0.998929</td>\n",
       "      <td>67.111879</td>\n",
       "      <td>297</td>\n",
       "      <td>PASS</td>\n",
       "      <td>AAAG</td>\n",
       "      <td>80</td>\n",
       "      <td>21</td>\n",
       "      <td>0.000000</td>\n",
       "      <td>0.43</td>\n",
       "      <td>1.974010</td>\n",
       "      <td>1.073539</td>\n",
       "      <td>True</td>\n",
       "      <td>4</td>\n",
       "    </tr>\n",
       "  </tbody>\n",
       "</table>\n",
       "</div>"
      ],
      "text/plain": [
       "       chrom      start        end     ml_mu   ml_beta      ml_p  \\\n",
       "14472      1  160698651  160698730 -3.062742  0.900000  0.918971   \n",
       "17426      1  200609460  200609482 -5.421445  0.185305  0.700002   \n",
       "24022     10   64522111   64522131 -7.674317  0.621984  0.816259   \n",
       "24894     10   80574572   80574600 -6.262810  0.708997  0.999984   \n",
       "28768     11   59388074   59388153 -7.674254  0.182240  0.998929   \n",
       "\n",
       "       ml_mu_stderr  numsamples strfilter motif  length  uninterrupted_length  \\\n",
       "14472      0.620357         297      PASS  AGAT      80                    52   \n",
       "17426      0.910597         300      PASS  AGCT      23                    23   \n",
       "24022      0.000000         300      PASS  ACTG      21                    21   \n",
       "24894      1.669060         300      PASS  ACTG      29                    29   \n",
       "28768     67.111879         297      PASS  AAAG      80                    21   \n",
       "\n",
       "         recomb    gc   entropy  reptiming featurefilter  period  \n",
       "14472  1.458050  0.44  1.856804   1.402919          True       4  \n",
       "17426  0.253637  0.37  1.866146   1.419828          True       4  \n",
       "24022  0.000115  0.45  1.969897   1.219447          True       4  \n",
       "24894  0.000000  0.39  1.941300   0.499526          True       4  \n",
       "28768  0.000000  0.43  1.974010   1.073539          True       4  "
      ]
     },
     "execution_count": 78,
     "metadata": {},
     "output_type": "execute_result"
    }
   ],
   "source": [
    "dataset.head()"
   ]
  },
  {
   "cell_type": "code",
   "execution_count": 79,
   "metadata": {
    "collapsed": false
   },
   "outputs": [
    {
     "data": {
      "image/png": "[encoded data removed]",
      "text/plain": [
       "<matplotlib.figure.Figure at 0x113b5bcd0>"
      ]
     },
     "metadata": {},
     "output_type": "display_data"
    }
   ],
   "source": [
    "fig, ((axis1, axis2), (axis3, axis4), (axis5, axis6)) = plt.subplots(3,2, figsize=(8, 8))\n",
    "for i in range(1, 7):\n",
    "    axes = [axis1, axis2, axis3, axis4, axis5, axis6]\n",
    "    dataset[dataset['period']==i]['ml_mu'].hist(ax=axes[i-1])"
   ]
  },
  {
   "cell_type": "markdown",
   "metadata": {},
   "source": [
    "The above figure indicates that the data is unbalanced, especially for those data whose motif length is greater than 1, the amount of data with **ml_mu < -7** is too large. And since **ml_mu < -7** usually indicates the estimation is not accurate, so those data will greatly affect our prediction, thus should be dropped or resampled.\n",
    "\n",
    "**edit from MGymrek**\n",
    "Restricting to things with length >=25 gives a much nicer distribution. This is not ideal but perhaps models on those can extend to the shorter, less mutable loci if the trends are all  linear."
   ]
  },
  {
   "cell_type": "markdown",
   "metadata": {},
   "source": [
    "Try drop firtst, then try resample."
   ]
  },
  {
   "cell_type": "code",
   "execution_count": 80,
   "metadata": {
    "collapsed": false
   },
   "outputs": [],
   "source": [
    "dataset = dataset[dataset['ml_mu'] > -7.5][dataset['ml_mu'] < -1] # Remove things at the optimization boundaries for mu\n",
    "dataset = dataset[dataset['ml_beta'] < 0.899][dataset[\"ml_beta\"] > 0.001] # Remove things at the optimization boundaries for beta"
   ]
  },
  {
   "cell_type": "code",
   "execution_count": 81,
   "metadata": {
    "collapsed": false
   },
   "outputs": [
    {
     "data": {
      "image/png": "[encoded data removed]",
      "text/plain": [
       "<matplotlib.figure.Figure at 0x114a62e10>"
      ]
     },
     "metadata": {},
     "output_type": "display_data"
    }
   ],
   "source": [
    "fig2, ((axis1, axis2), (axis3, axis4), (axis5, axis6)) = plt.subplots(3,2, figsize=(8, 8))\n",
    "for i in range(1, 7):\n",
    "    axes = [axis1, axis2, axis3, axis4, axis5, axis6]\n",
    "    dataset[dataset['period']==i]['ml_mu'].hist(ax=axes[i-1])"
   ]
  },
  {
   "cell_type": "code",
   "execution_count": 82,
   "metadata": {
    "collapsed": false
   },
   "outputs": [],
   "source": [
    "traintest_num = 15000\n",
    "basic_X = dataset[features][:traintest_num]\n",
    "basic_y = dataset['ml_mu'][:traintest_num]\n",
    "train_X, test_X, train_y, test_y = xval.train_test_split(basic_X, basic_y, test_size=0.25)"
   ]
  },
  {
   "cell_type": "markdown",
   "metadata": {},
   "source": [
    "# Linear Regression"
   ]
  },
  {
   "cell_type": "code",
   "execution_count": 83,
   "metadata": {
    "collapsed": false
   },
   "outputs": [
    {
     "name": "stdout",
     "output_type": "stream",
     "text": [
      "-12.4128198589\n",
      "(-1.0, 0.0)\n"
     ]
    },
    {
     "data": {
      "image/png": "[encoded data removed]",
      "text/plain": [
       "<matplotlib.figure.Figure at 0x11511b790>"
      ]
     },
     "metadata": {},
     "output_type": "display_data"
    }
   ],
   "source": [
    "lr = LinearRegression()\n",
    "lr.fit(train_X, train_y)\n",
    "print lr.score(test_X, test_y)\n",
    "plt.scatter(lr.predict(test_X), test_y, alpha=0.1)\n",
    "plt.plot([-7, -2],[-7,-2])\n",
    "plt.xlim(left=-7, right=-2)\n",
    "plt.xlabel(\"Predicted mu\", size=15)\n",
    "plt.ylabel(\"Estimated mu\", size=15)\n",
    "print pearsonr(test_y, lr.predict(test_X))"
   ]
  },
  {
   "cell_type": "markdown",
   "metadata": {},
   "source": [
    "# Random Forest"
   ]
  },
  {
   "cell_type": "code",
   "execution_count": 84,
   "metadata": {
    "collapsed": false
   },
   "outputs": [
    {
     "data": {
      "image/png": "[encoded data removed]",
      "text/plain": [
       "<matplotlib.figure.Figure at 0x117fcbb90>"
      ]
     },
     "metadata": {},
     "output_type": "display_data"
    },
    {
     "name": "stdout",
     "output_type": "stream",
     "text": [
      "-1.21200207911\n",
      "(nan, nan)\n"
     ]
    }
   ],
   "source": [
    "rf = RandomForestRegressor(max_depth=50, min_samples_leaf=10, n_estimators=10)\n",
    "# weights = np.array([0.1 if mu < -5 else 1 for mu in train_X['period']])\n",
    "rf.fit(train_X, train_y)\n",
    "pred_y = rf.predict(test_X)\n",
    "plt.scatter(pred_y, test_y, alpha=0.1)\n",
    "plt.plot([-7, -2],[-7,-2])\n",
    "plt.xlim(left=-7, right=-2)\n",
    "plt.xlabel(\"Predicted mu\", size=15)\n",
    "plt.ylabel(\"Estimated mu\", size=15)\n",
    "plt.show()\n",
    "print rf.score(test_X, test_y)\n",
    "print pearsonr(test_y, pred_y)"
   ]
  },
  {
   "cell_type": "code",
   "execution_count": 85,
   "metadata": {
    "collapsed": false
   },
   "outputs": [],
   "source": [
    "inbag = fci.calc_inbag(train_X[:20000].shape[0], rf)\n",
    "unbiased = fci.random_forest_error(rf, inbag, train_X[:20000], test_X[:20000])"
   ]
  },
  {
   "cell_type": "code",
   "execution_count": 86,
   "metadata": {
    "collapsed": false
   },
   "outputs": [
    {
     "data": {
      "image/png": "[encoded data removed]",
      "text/plain": [
       "<matplotlib.figure.Figure at 0x11488f710>"
      ]
     },
     "metadata": {},
     "output_type": "display_data"
    }
   ],
   "source": [
    "plot_size = 50\n",
    "\n",
    "plt.errorbar(test_y[:plot_size], pred_y[:plot_size], yerr=np.sqrt(unbiased[:plot_size]), fmt='o', alpha=0.5)\n",
    "plt.plot([-8, 0], [-8, 0], '--')\n",
    "plt.xlabel('mu')\n",
    "plt.ylabel('pred_mu')\n",
    "plt.show()"
   ]
  },
  {
   "cell_type": "code",
   "execution_count": 87,
   "metadata": {
    "collapsed": false
   },
   "outputs": [
    {
     "data": {
      "text/plain": [
       "array([ 0.,  0.,  0.,  0.,  0.,  0.,  0.])"
      ]
     },
     "execution_count": 87,
     "metadata": {},
     "output_type": "execute_result"
    }
   ],
   "source": [
    "rf.feature_importances_"
   ]
  },
  {
   "cell_type": "markdown",
   "metadata": {},
   "source": [
    "# Compare models"
   ]
  },
  {
   "cell_type": "code",
   "execution_count": 88,
   "metadata": {
    "collapsed": false
   },
   "outputs": [
    {
     "data": {
      "text/plain": [
       "[]"
      ]
     },
     "execution_count": 88,
     "metadata": {},
     "output_type": "execute_result"
    },
    {
     "data": {
      "image/png": "[encoded data removed]",
      "text/plain": [
       "<matplotlib.figure.Figure at 0x115e242d0>"
      ]
     },
     "metadata": {},
     "output_type": "display_data"
    }
   ],
   "source": [
    "plt.scatter(lr.predict(test_X), rf.predict(test_X), alpha=0.1)\n",
    "plt.xlabel(\"Linear regression prediction\", size=15)\n",
    "plt.ylabel(\"Random forest prediction\", size=15)\n",
    "plt.plot([-5.5, -2],[-5.5,-2])\n",
    "plt.xlim(left=-5.5, right=-2)\n",
    "plt.plot()"
   ]
  },
  {
   "cell_type": "markdown",
   "metadata": {},
   "source": [
    "# Make predictions"
   ]
  },
  {
   "cell_type": "code",
   "execution_count": 89,
   "metadata": {
    "collapsed": false
   },
   "outputs": [],
   "source": [
    "dataset = pd.read_csv(os.path.join(DATAPATH, \"autosomal_perlocus_observed.bed.gz\"), sep=\"\\t\").drop_duplicates()\n",
    "dataset['period'] = dataset['motif'].str.len()\n",
    "dataset['pred_mu'] = rf.predict(dataset[features])\n",
    "header = ['chrom','start','end','ml_mu','ml_beta','ml_p','ml_mu_stderr','numsamples','strfilter','motif',\n",
    "          'length','uninterrupted_length','recomb','gc,entropy','reptiming','featurefilter','period','pred_mu','pred_mu_se']"
   ]
  },
  {
   "cell_type": "code",
   "execution_count": 90,
   "metadata": {
    "collapsed": true
   },
   "outputs": [],
   "source": [
    "# calculate inbag and unbiased variance\n",
    "#all_X = dataset[features]\n",
    "#inbag = fci.calc_inbag(train_X.shape[0], rf)\n",
    "#unbiased = fci.random_forest_error(rf, inbag, train_X, all_X)\n",
    "#dataset['pred_mu_se'] = np.sqrt(unbiased)"
   ]
  },
  {
   "cell_type": "code",
   "execution_count": 91,
   "metadata": {
    "collapsed": false
   },
   "outputs": [
    {
     "data": {
      "text/html": [
       "<div>\n",
       "<table border=\"1\" class=\"dataframe\">\n",
       "  <thead>\n",
       "    <tr style=\"text-align: right;\">\n",
       "      <th></th>\n",
       "      <th>chrom</th>\n",
       "      <th>start</th>\n",
       "      <th>end</th>\n",
       "      <th>ml_mu</th>\n",
       "      <th>ml_beta</th>\n",
       "      <th>ml_p</th>\n",
       "      <th>ml_mu_stderr</th>\n",
       "      <th>numsamples</th>\n",
       "      <th>strfilter</th>\n",
       "      <th>motif</th>\n",
       "      <th>length</th>\n",
       "      <th>uninterrupted_length</th>\n",
       "      <th>recomb</th>\n",
       "      <th>gc</th>\n",
       "      <th>entropy</th>\n",
       "      <th>reptiming</th>\n",
       "      <th>featurefilter</th>\n",
       "      <th>period</th>\n",
       "      <th>pred_mu</th>\n",
       "    </tr>\n",
       "  </thead>\n",
       "  <tbody>\n",
       "    <tr>\n",
       "      <th>0</th>\n",
       "      <td>1</td>\n",
       "      <td>6075743</td>\n",
       "      <td>6075768</td>\n",
       "      <td>-7.674328</td>\n",
       "      <td>0.398885</td>\n",
       "      <td>0.899090</td>\n",
       "      <td>0.000000</td>\n",
       "      <td>296</td>\n",
       "      <td>PASS</td>\n",
       "      <td>AACC</td>\n",
       "      <td>26</td>\n",
       "      <td>18</td>\n",
       "      <td>0.746595</td>\n",
       "      <td>0.42</td>\n",
       "      <td>1.862236</td>\n",
       "      <td>1.257372</td>\n",
       "      <td>False</td>\n",
       "      <td>4</td>\n",
       "      <td>-5.329966</td>\n",
       "    </tr>\n",
       "    <tr>\n",
       "      <th>1</th>\n",
       "      <td>1</td>\n",
       "      <td>6077467</td>\n",
       "      <td>6077499</td>\n",
       "      <td>-3.620364</td>\n",
       "      <td>0.410529</td>\n",
       "      <td>0.811976</td>\n",
       "      <td>0.383819</td>\n",
       "      <td>298</td>\n",
       "      <td>PASS</td>\n",
       "      <td>AC</td>\n",
       "      <td>33</td>\n",
       "      <td>33</td>\n",
       "      <td>0.746595</td>\n",
       "      <td>0.50</td>\n",
       "      <td>1.973815</td>\n",
       "      <td>1.261710</td>\n",
       "      <td>False</td>\n",
       "      <td>2</td>\n",
       "      <td>-5.329966</td>\n",
       "    </tr>\n",
       "    <tr>\n",
       "      <th>2</th>\n",
       "      <td>1</td>\n",
       "      <td>6077849</td>\n",
       "      <td>6077863</td>\n",
       "      <td>-5.753837</td>\n",
       "      <td>0.465792</td>\n",
       "      <td>0.999998</td>\n",
       "      <td>1.275853</td>\n",
       "      <td>301</td>\n",
       "      <td>PASS</td>\n",
       "      <td>A</td>\n",
       "      <td>15</td>\n",
       "      <td>15</td>\n",
       "      <td>0.746595</td>\n",
       "      <td>0.58</td>\n",
       "      <td>1.962409</td>\n",
       "      <td>1.261710</td>\n",
       "      <td>False</td>\n",
       "      <td>1</td>\n",
       "      <td>-5.329966</td>\n",
       "    </tr>\n",
       "    <tr>\n",
       "      <th>3</th>\n",
       "      <td>1</td>\n",
       "      <td>6080725</td>\n",
       "      <td>6080742</td>\n",
       "      <td>-7.674329</td>\n",
       "      <td>0.763534</td>\n",
       "      <td>0.926531</td>\n",
       "      <td>0.000000</td>\n",
       "      <td>299</td>\n",
       "      <td>PASS</td>\n",
       "      <td>AAAT</td>\n",
       "      <td>18</td>\n",
       "      <td>14</td>\n",
       "      <td>0.746595</td>\n",
       "      <td>0.48</td>\n",
       "      <td>1.996624</td>\n",
       "      <td>1.269678</td>\n",
       "      <td>False</td>\n",
       "      <td>4</td>\n",
       "      <td>-5.329966</td>\n",
       "    </tr>\n",
       "    <tr>\n",
       "      <th>4</th>\n",
       "      <td>1</td>\n",
       "      <td>6081446</td>\n",
       "      <td>6081466</td>\n",
       "      <td>-7.674331</td>\n",
       "      <td>0.538737</td>\n",
       "      <td>0.954788</td>\n",
       "      <td>0.000000</td>\n",
       "      <td>296</td>\n",
       "      <td>PASS</td>\n",
       "      <td>AAAAAG</td>\n",
       "      <td>21</td>\n",
       "      <td>21</td>\n",
       "      <td>0.746595</td>\n",
       "      <td>0.39</td>\n",
       "      <td>1.964496</td>\n",
       "      <td>1.274279</td>\n",
       "      <td>False</td>\n",
       "      <td>6</td>\n",
       "      <td>-5.329966</td>\n",
       "    </tr>\n",
       "  </tbody>\n",
       "</table>\n",
       "</div>"
      ],
      "text/plain": [
       "   chrom    start      end     ml_mu   ml_beta      ml_p  ml_mu_stderr  \\\n",
       "0      1  6075743  6075768 -7.674328  0.398885  0.899090      0.000000   \n",
       "1      1  6077467  6077499 -3.620364  0.410529  0.811976      0.383819   \n",
       "2      1  6077849  6077863 -5.753837  0.465792  0.999998      1.275853   \n",
       "3      1  6080725  6080742 -7.674329  0.763534  0.926531      0.000000   \n",
       "4      1  6081446  6081466 -7.674331  0.538737  0.954788      0.000000   \n",
       "\n",
       "   numsamples strfilter   motif  length  uninterrupted_length    recomb    gc  \\\n",
       "0         296      PASS    AACC      26                    18  0.746595  0.42   \n",
       "1         298      PASS      AC      33                    33  0.746595  0.50   \n",
       "2         301      PASS       A      15                    15  0.746595  0.58   \n",
       "3         299      PASS    AAAT      18                    14  0.746595  0.48   \n",
       "4         296      PASS  AAAAAG      21                    21  0.746595  0.39   \n",
       "\n",
       "    entropy  reptiming featurefilter  period   pred_mu  \n",
       "0  1.862236   1.257372         False       4 -5.329966  \n",
       "1  1.973815   1.261710         False       2 -5.329966  \n",
       "2  1.962409   1.261710         False       1 -5.329966  \n",
       "3  1.996624   1.269678         False       4 -5.329966  \n",
       "4  1.964496   1.274279         False       6 -5.329966  "
      ]
     },
     "execution_count": 91,
     "metadata": {},
     "output_type": "execute_result"
    }
   ],
   "source": [
    "dataset.to_csv(os.path.join(DATAPATH, 'alex_rough_mu_prediction.csv'), columns=header, index=False)\n",
    "dataset.head()"
   ]
  }
 ],
 "metadata": {
  "kernelspec": {
   "display_name": "Python 2",
   "language": "python",
   "name": "python2"
  },
  "language_info": {
   "codemirror_mode": {
    "name": "ipython",
    "version": 2
   },
   "file_extension": ".py",
   "mimetype": "text/x-python",
   "name": "python",
   "nbconvert_exporter": "python",
   "pygments_lexer": "ipython2",
   "version": "2.7.10"
  }
 },
 "nbformat": 4,
 "nbformat_minor": 0
}
